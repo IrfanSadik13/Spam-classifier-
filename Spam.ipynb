{
  "nbformat": 4,
  "nbformat_minor": 0,
  "metadata": {
    "colab": {
      "provenance": [],
      "mount_file_id": "14Si-9EazwlNTpMArLwhp_UbQeUg2jztw",
      "authorship_tag": "ABX9TyNJZqrZ8oTmR4fDFGhTMlhJ",
      "include_colab_link": true
    },
    "kernelspec": {
      "name": "python3",
      "display_name": "Python 3"
    },
    "language_info": {
      "name": "python"
    }
  },
  "cells": [
    {
      "cell_type": "markdown",
      "metadata": {
        "id": "view-in-github",
        "colab_type": "text"
      },
      "source": [
        "<a href=\"https://colab.research.google.com/github/IrfanSadik13/Spam-classifier-/blob/main/Spam.ipynb\" target=\"_parent\"><img src=\"https://colab.research.google.com/assets/colab-badge.svg\" alt=\"Open In Colab\"/></a>"
      ]
    },
    {
      "cell_type": "code",
      "execution_count": null,
      "metadata": {
        "id": "dBaUkjfRBjBq"
      },
      "outputs": [],
      "source": [
        "import pandas as pd\n",
        "import numpy as np"
      ]
    },
    {
      "cell_type": "code",
      "source": [
        "\n",
        "df = pd.read_csv('/content/drive/MyDrive/Datasets/spam.csv', encoding='ISO-8859-1')"
      ],
      "metadata": {
        "id": "jcR4umG3Hbl1"
      },
      "execution_count": null,
      "outputs": []
    },
    {
      "cell_type": "code",
      "source": [
        "df.drop(columns=[\"Unnamed: 2\",\"Unnamed: 3\",\"Unnamed: 4\"],inplace=True)"
      ],
      "metadata": {
        "id": "v2VFTGHWDMJa"
      },
      "execution_count": null,
      "outputs": []
    },
    {
      "cell_type": "code",
      "source": [
        "\n",
        "df.rename(columns={\"v1\": \"target\", \"v2\": \"text\"}, inplace=True)"
      ],
      "metadata": {
        "id": "eNdNuvGipLJX"
      },
      "execution_count": null,
      "outputs": []
    },
    {
      "cell_type": "code",
      "source": [
        "from sklearn.preprocessing import LabelEncoder\n",
        "encoder=LabelEncoder()"
      ],
      "metadata": {
        "id": "9qi72taApM2Q"
      },
      "execution_count": null,
      "outputs": []
    },
    {
      "cell_type": "code",
      "source": [
        "df[\"target\"]=encoder.fit_transform(df[\"target\"])"
      ],
      "metadata": {
        "id": "xzjWPUCWp2Nv"
      },
      "execution_count": null,
      "outputs": []
    },
    {
      "cell_type": "code",
      "source": [
        "df=df.drop_duplicates(keep=\"first\")"
      ],
      "metadata": {
        "id": "aMZccR5iqI7M"
      },
      "execution_count": null,
      "outputs": []
    },
    {
      "cell_type": "code",
      "source": [
        "df.shape"
      ],
      "metadata": {
        "colab": {
          "base_uri": "https://localhost:8080/"
        },
        "id": "oVIcw1TKsFwn",
        "outputId": "30a33974-e968-420c-cce3-4395d040fa2f"
      },
      "execution_count": null,
      "outputs": [
        {
          "output_type": "execute_result",
          "data": {
            "text/plain": [
              "(5169, 2)"
            ]
          },
          "metadata": {},
          "execution_count": 10
        }
      ]
    },
    {
      "cell_type": "code",
      "source": [
        "import nltk"
      ],
      "metadata": {
        "id": "G_U2nY-YtAwW"
      },
      "execution_count": null,
      "outputs": []
    },
    {
      "cell_type": "code",
      "source": [
        "\n",
        "nltk.download(\"punkt\")\n",
        "nltk.download(\"punkt_tab\")"
      ],
      "metadata": {
        "colab": {
          "base_uri": "https://localhost:8080/"
        },
        "id": "TaU9cijjtCd5",
        "outputId": "68798395-356a-4a3d-fa59-451d4ded981b"
      },
      "execution_count": null,
      "outputs": [
        {
          "output_type": "stream",
          "name": "stderr",
          "text": [
            "[nltk_data] Downloading package punkt to /root/nltk_data...\n",
            "[nltk_data]   Unzipping tokenizers/punkt.zip.\n",
            "[nltk_data] Downloading package punkt_tab to /root/nltk_data...\n",
            "[nltk_data]   Unzipping tokenizers/punkt_tab.zip.\n"
          ]
        },
        {
          "output_type": "execute_result",
          "data": {
            "text/plain": [
              "True"
            ]
          },
          "metadata": {},
          "execution_count": 12
        }
      ]
    },
    {
      "cell_type": "code",
      "source": [
        "df[\"num_characters\"]=df[\"text\"].apply(len)"
      ],
      "metadata": {
        "id": "JV3PqL6etwK7"
      },
      "execution_count": null,
      "outputs": []
    },
    {
      "cell_type": "code",
      "source": [
        "df[\"num_words\"]=df[\"text\"].apply(lambda x:len(nltk.word_tokenize(x)))"
      ],
      "metadata": {
        "id": "vNPBKcUHuDpn"
      },
      "execution_count": null,
      "outputs": []
    },
    {
      "cell_type": "code",
      "source": [
        "df[\"num_sentences\"]=df[\"text\"].apply(lambda x:len(nltk.sent_tokenize(x)))"
      ],
      "metadata": {
        "id": "GY0As3UjLmQH"
      },
      "execution_count": null,
      "outputs": []
    },
    {
      "cell_type": "code",
      "source": [
        "df.describe()"
      ],
      "metadata": {
        "colab": {
          "base_uri": "https://localhost:8080/",
          "height": 320
        },
        "id": "_z_wJZLkMqm3",
        "outputId": "ee738b2d-f472-49a8-c753-c923349756d9"
      },
      "execution_count": null,
      "outputs": [
        {
          "output_type": "execute_result",
          "data": {
            "text/plain": [
              "            target  num_characters    num_words  num_sentences\n",
              "count  5169.000000     5169.000000  5169.000000    5169.000000\n",
              "mean      0.126330       78.977945    18.455794       1.965564\n",
              "std       0.332253       58.236293    13.324758       1.448541\n",
              "min       0.000000        2.000000     1.000000       1.000000\n",
              "25%       0.000000       36.000000     9.000000       1.000000\n",
              "50%       0.000000       60.000000    15.000000       1.000000\n",
              "75%       0.000000      117.000000    26.000000       2.000000\n",
              "max       1.000000      910.000000   220.000000      38.000000"
            ],
            "text/html": [
              "\n",
              "  <div id=\"df-e8d92ddf-0e85-42f4-9362-bdd299f7ca6f\" class=\"colab-df-container\">\n",
              "    <div>\n",
              "<style scoped>\n",
              "    .dataframe tbody tr th:only-of-type {\n",
              "        vertical-align: middle;\n",
              "    }\n",
              "\n",
              "    .dataframe tbody tr th {\n",
              "        vertical-align: top;\n",
              "    }\n",
              "\n",
              "    .dataframe thead th {\n",
              "        text-align: right;\n",
              "    }\n",
              "</style>\n",
              "<table border=\"1\" class=\"dataframe\">\n",
              "  <thead>\n",
              "    <tr style=\"text-align: right;\">\n",
              "      <th></th>\n",
              "      <th>target</th>\n",
              "      <th>num_characters</th>\n",
              "      <th>num_words</th>\n",
              "      <th>num_sentences</th>\n",
              "    </tr>\n",
              "  </thead>\n",
              "  <tbody>\n",
              "    <tr>\n",
              "      <th>count</th>\n",
              "      <td>5169.000000</td>\n",
              "      <td>5169.000000</td>\n",
              "      <td>5169.000000</td>\n",
              "      <td>5169.000000</td>\n",
              "    </tr>\n",
              "    <tr>\n",
              "      <th>mean</th>\n",
              "      <td>0.126330</td>\n",
              "      <td>78.977945</td>\n",
              "      <td>18.455794</td>\n",
              "      <td>1.965564</td>\n",
              "    </tr>\n",
              "    <tr>\n",
              "      <th>std</th>\n",
              "      <td>0.332253</td>\n",
              "      <td>58.236293</td>\n",
              "      <td>13.324758</td>\n",
              "      <td>1.448541</td>\n",
              "    </tr>\n",
              "    <tr>\n",
              "      <th>min</th>\n",
              "      <td>0.000000</td>\n",
              "      <td>2.000000</td>\n",
              "      <td>1.000000</td>\n",
              "      <td>1.000000</td>\n",
              "    </tr>\n",
              "    <tr>\n",
              "      <th>25%</th>\n",
              "      <td>0.000000</td>\n",
              "      <td>36.000000</td>\n",
              "      <td>9.000000</td>\n",
              "      <td>1.000000</td>\n",
              "    </tr>\n",
              "    <tr>\n",
              "      <th>50%</th>\n",
              "      <td>0.000000</td>\n",
              "      <td>60.000000</td>\n",
              "      <td>15.000000</td>\n",
              "      <td>1.000000</td>\n",
              "    </tr>\n",
              "    <tr>\n",
              "      <th>75%</th>\n",
              "      <td>0.000000</td>\n",
              "      <td>117.000000</td>\n",
              "      <td>26.000000</td>\n",
              "      <td>2.000000</td>\n",
              "    </tr>\n",
              "    <tr>\n",
              "      <th>max</th>\n",
              "      <td>1.000000</td>\n",
              "      <td>910.000000</td>\n",
              "      <td>220.000000</td>\n",
              "      <td>38.000000</td>\n",
              "    </tr>\n",
              "  </tbody>\n",
              "</table>\n",
              "</div>\n",
              "    <div class=\"colab-df-buttons\">\n",
              "\n",
              "  <div class=\"colab-df-container\">\n",
              "    <button class=\"colab-df-convert\" onclick=\"convertToInteractive('df-e8d92ddf-0e85-42f4-9362-bdd299f7ca6f')\"\n",
              "            title=\"Convert this dataframe to an interactive table.\"\n",
              "            style=\"display:none;\">\n",
              "\n",
              "  <svg xmlns=\"http://www.w3.org/2000/svg\" height=\"24px\" viewBox=\"0 -960 960 960\">\n",
              "    <path d=\"M120-120v-720h720v720H120Zm60-500h600v-160H180v160Zm220 220h160v-160H400v160Zm0 220h160v-160H400v160ZM180-400h160v-160H180v160Zm440 0h160v-160H620v160ZM180-180h160v-160H180v160Zm440 0h160v-160H620v160Z\"/>\n",
              "  </svg>\n",
              "    </button>\n",
              "\n",
              "  <style>\n",
              "    .colab-df-container {\n",
              "      display:flex;\n",
              "      gap: 12px;\n",
              "    }\n",
              "\n",
              "    .colab-df-convert {\n",
              "      background-color: #E8F0FE;\n",
              "      border: none;\n",
              "      border-radius: 50%;\n",
              "      cursor: pointer;\n",
              "      display: none;\n",
              "      fill: #1967D2;\n",
              "      height: 32px;\n",
              "      padding: 0 0 0 0;\n",
              "      width: 32px;\n",
              "    }\n",
              "\n",
              "    .colab-df-convert:hover {\n",
              "      background-color: #E2EBFA;\n",
              "      box-shadow: 0px 1px 2px rgba(60, 64, 67, 0.3), 0px 1px 3px 1px rgba(60, 64, 67, 0.15);\n",
              "      fill: #174EA6;\n",
              "    }\n",
              "\n",
              "    .colab-df-buttons div {\n",
              "      margin-bottom: 4px;\n",
              "    }\n",
              "\n",
              "    [theme=dark] .colab-df-convert {\n",
              "      background-color: #3B4455;\n",
              "      fill: #D2E3FC;\n",
              "    }\n",
              "\n",
              "    [theme=dark] .colab-df-convert:hover {\n",
              "      background-color: #434B5C;\n",
              "      box-shadow: 0px 1px 3px 1px rgba(0, 0, 0, 0.15);\n",
              "      filter: drop-shadow(0px 1px 2px rgba(0, 0, 0, 0.3));\n",
              "      fill: #FFFFFF;\n",
              "    }\n",
              "  </style>\n",
              "\n",
              "    <script>\n",
              "      const buttonEl =\n",
              "        document.querySelector('#df-e8d92ddf-0e85-42f4-9362-bdd299f7ca6f button.colab-df-convert');\n",
              "      buttonEl.style.display =\n",
              "        google.colab.kernel.accessAllowed ? 'block' : 'none';\n",
              "\n",
              "      async function convertToInteractive(key) {\n",
              "        const element = document.querySelector('#df-e8d92ddf-0e85-42f4-9362-bdd299f7ca6f');\n",
              "        const dataTable =\n",
              "          await google.colab.kernel.invokeFunction('convertToInteractive',\n",
              "                                                    [key], {});\n",
              "        if (!dataTable) return;\n",
              "\n",
              "        const docLinkHtml = 'Like what you see? Visit the ' +\n",
              "          '<a target=\"_blank\" href=https://colab.research.google.com/notebooks/data_table.ipynb>data table notebook</a>'\n",
              "          + ' to learn more about interactive tables.';\n",
              "        element.innerHTML = '';\n",
              "        dataTable['output_type'] = 'display_data';\n",
              "        await google.colab.output.renderOutput(dataTable, element);\n",
              "        const docLink = document.createElement('div');\n",
              "        docLink.innerHTML = docLinkHtml;\n",
              "        element.appendChild(docLink);\n",
              "      }\n",
              "    </script>\n",
              "  </div>\n",
              "\n",
              "\n",
              "<div id=\"df-c83fcd18-42d9-46f4-95c1-b432ac9a32a6\">\n",
              "  <button class=\"colab-df-quickchart\" onclick=\"quickchart('df-c83fcd18-42d9-46f4-95c1-b432ac9a32a6')\"\n",
              "            title=\"Suggest charts\"\n",
              "            style=\"display:none;\">\n",
              "\n",
              "<svg xmlns=\"http://www.w3.org/2000/svg\" height=\"24px\"viewBox=\"0 0 24 24\"\n",
              "     width=\"24px\">\n",
              "    <g>\n",
              "        <path d=\"M19 3H5c-1.1 0-2 .9-2 2v14c0 1.1.9 2 2 2h14c1.1 0 2-.9 2-2V5c0-1.1-.9-2-2-2zM9 17H7v-7h2v7zm4 0h-2V7h2v10zm4 0h-2v-4h2v4z\"/>\n",
              "    </g>\n",
              "</svg>\n",
              "  </button>\n",
              "\n",
              "<style>\n",
              "  .colab-df-quickchart {\n",
              "      --bg-color: #E8F0FE;\n",
              "      --fill-color: #1967D2;\n",
              "      --hover-bg-color: #E2EBFA;\n",
              "      --hover-fill-color: #174EA6;\n",
              "      --disabled-fill-color: #AAA;\n",
              "      --disabled-bg-color: #DDD;\n",
              "  }\n",
              "\n",
              "  [theme=dark] .colab-df-quickchart {\n",
              "      --bg-color: #3B4455;\n",
              "      --fill-color: #D2E3FC;\n",
              "      --hover-bg-color: #434B5C;\n",
              "      --hover-fill-color: #FFFFFF;\n",
              "      --disabled-bg-color: #3B4455;\n",
              "      --disabled-fill-color: #666;\n",
              "  }\n",
              "\n",
              "  .colab-df-quickchart {\n",
              "    background-color: var(--bg-color);\n",
              "    border: none;\n",
              "    border-radius: 50%;\n",
              "    cursor: pointer;\n",
              "    display: none;\n",
              "    fill: var(--fill-color);\n",
              "    height: 32px;\n",
              "    padding: 0;\n",
              "    width: 32px;\n",
              "  }\n",
              "\n",
              "  .colab-df-quickchart:hover {\n",
              "    background-color: var(--hover-bg-color);\n",
              "    box-shadow: 0 1px 2px rgba(60, 64, 67, 0.3), 0 1px 3px 1px rgba(60, 64, 67, 0.15);\n",
              "    fill: var(--button-hover-fill-color);\n",
              "  }\n",
              "\n",
              "  .colab-df-quickchart-complete:disabled,\n",
              "  .colab-df-quickchart-complete:disabled:hover {\n",
              "    background-color: var(--disabled-bg-color);\n",
              "    fill: var(--disabled-fill-color);\n",
              "    box-shadow: none;\n",
              "  }\n",
              "\n",
              "  .colab-df-spinner {\n",
              "    border: 2px solid var(--fill-color);\n",
              "    border-color: transparent;\n",
              "    border-bottom-color: var(--fill-color);\n",
              "    animation:\n",
              "      spin 1s steps(1) infinite;\n",
              "  }\n",
              "\n",
              "  @keyframes spin {\n",
              "    0% {\n",
              "      border-color: transparent;\n",
              "      border-bottom-color: var(--fill-color);\n",
              "      border-left-color: var(--fill-color);\n",
              "    }\n",
              "    20% {\n",
              "      border-color: transparent;\n",
              "      border-left-color: var(--fill-color);\n",
              "      border-top-color: var(--fill-color);\n",
              "    }\n",
              "    30% {\n",
              "      border-color: transparent;\n",
              "      border-left-color: var(--fill-color);\n",
              "      border-top-color: var(--fill-color);\n",
              "      border-right-color: var(--fill-color);\n",
              "    }\n",
              "    40% {\n",
              "      border-color: transparent;\n",
              "      border-right-color: var(--fill-color);\n",
              "      border-top-color: var(--fill-color);\n",
              "    }\n",
              "    60% {\n",
              "      border-color: transparent;\n",
              "      border-right-color: var(--fill-color);\n",
              "    }\n",
              "    80% {\n",
              "      border-color: transparent;\n",
              "      border-right-color: var(--fill-color);\n",
              "      border-bottom-color: var(--fill-color);\n",
              "    }\n",
              "    90% {\n",
              "      border-color: transparent;\n",
              "      border-bottom-color: var(--fill-color);\n",
              "    }\n",
              "  }\n",
              "</style>\n",
              "\n",
              "  <script>\n",
              "    async function quickchart(key) {\n",
              "      const quickchartButtonEl =\n",
              "        document.querySelector('#' + key + ' button');\n",
              "      quickchartButtonEl.disabled = true;  // To prevent multiple clicks.\n",
              "      quickchartButtonEl.classList.add('colab-df-spinner');\n",
              "      try {\n",
              "        const charts = await google.colab.kernel.invokeFunction(\n",
              "            'suggestCharts', [key], {});\n",
              "      } catch (error) {\n",
              "        console.error('Error during call to suggestCharts:', error);\n",
              "      }\n",
              "      quickchartButtonEl.classList.remove('colab-df-spinner');\n",
              "      quickchartButtonEl.classList.add('colab-df-quickchart-complete');\n",
              "    }\n",
              "    (() => {\n",
              "      let quickchartButtonEl =\n",
              "        document.querySelector('#df-c83fcd18-42d9-46f4-95c1-b432ac9a32a6 button');\n",
              "      quickchartButtonEl.style.display =\n",
              "        google.colab.kernel.accessAllowed ? 'block' : 'none';\n",
              "    })();\n",
              "  </script>\n",
              "</div>\n",
              "\n",
              "    </div>\n",
              "  </div>\n"
            ],
            "application/vnd.google.colaboratory.intrinsic+json": {
              "type": "dataframe",
              "summary": "{\n  \"name\": \"df\",\n  \"rows\": 8,\n  \"fields\": [\n    {\n      \"column\": \"target\",\n      \"properties\": {\n        \"dtype\": \"number\",\n        \"std\": 1827.4438385489177,\n        \"min\": 0.0,\n        \"max\": 5169.0,\n        \"num_unique_values\": 5,\n        \"samples\": [\n          0.12633004449603405,\n          1.0,\n          0.33225309769169337\n        ],\n        \"semantic_type\": \"\",\n        \"description\": \"\"\n      }\n    },\n    {\n      \"column\": \"num_characters\",\n      \"properties\": {\n        \"dtype\": \"number\",\n        \"std\": 1789.0466099816033,\n        \"min\": 2.0,\n        \"max\": 5169.0,\n        \"num_unique_values\": 8,\n        \"samples\": [\n          78.97794544399304,\n          60.0,\n          5169.0\n        ],\n        \"semantic_type\": \"\",\n        \"description\": \"\"\n      }\n    },\n    {\n      \"column\": \"num_words\",\n      \"properties\": {\n        \"dtype\": \"number\",\n        \"std\": 1813.6748158704295,\n        \"min\": 1.0,\n        \"max\": 5169.0,\n        \"num_unique_values\": 8,\n        \"samples\": [\n          18.455794157477268,\n          15.0,\n          5169.0\n        ],\n        \"semantic_type\": \"\",\n        \"description\": \"\"\n      }\n    },\n    {\n      \"column\": \"num_sentences\",\n      \"properties\": {\n        \"dtype\": \"number\",\n        \"std\": 1825.2181836492673,\n        \"min\": 1.0,\n        \"max\": 5169.0,\n        \"num_unique_values\": 6,\n        \"samples\": [\n          5169.0,\n          1.9655639388663184,\n          38.0\n        ],\n        \"semantic_type\": \"\",\n        \"description\": \"\"\n      }\n    }\n  ]\n}"
            }
          },
          "metadata": {},
          "execution_count": 16
        }
      ]
    },
    {
      "cell_type": "code",
      "source": [
        "def transform_text(text):\n",
        "    text = text.lower()\n",
        "    text = nltk.word_tokenize(text)\n",
        "\n",
        "    y = []\n",
        "    for i in text:\n",
        "        if i.isalnum():\n",
        "            y.append(i)\n",
        "\n",
        "    text = y[:]\n",
        "    y.clear()\n",
        "\n",
        "    for i in text:\n",
        "        if i not in stopwords.words('english') and i not in string.punctuation:\n",
        "            y.append(i)\n",
        "\n",
        "    text = y[:]\n",
        "    y.clear()\n",
        "\n",
        "    for i in text:\n",
        "        y.append(ps.stem(i))\n",
        "\n",
        "\n",
        "    return \" \".join(y)"
      ],
      "metadata": {
        "id": "rDmMTZ10PXf2"
      },
      "execution_count": null,
      "outputs": []
    },
    {
      "cell_type": "code",
      "source": [
        "\n",
        "import nltk\n",
        "from nltk.corpus import stopwords\n",
        "from nltk.tokenize import word_tokenize\n",
        "from nltk.stem import PorterStemmer\n",
        "import string\n",
        "\n",
        "# Download necessary resources (run only once)\n",
        "nltk.download('punkt')\n",
        "nltk.download('stopwords')\n",
        "\n",
        "ps = PorterStemmer()\n",
        "\n",
        "def transform_text(text):\n",
        "    text = text.lower()\n",
        "    text = word_tokenize(text)\n",
        "\n",
        "    y = []\n",
        "    for i in text:\n",
        "        if i.isalnum():  # Keep only alphanumeric tokens\n",
        "            y.append(i)\n",
        "\n",
        "    text = y[:]\n",
        "    y.clear()\n",
        "\n",
        "    for i in text:\n",
        "        if i not in stopwords.words('english') and i not in string.punctuation:\n",
        "            y.append(i)\n",
        "\n",
        "    text = y[:]\n",
        "    y.clear()\n",
        "\n",
        "    for i in text:\n",
        "        y.append(ps.stem(i))\n",
        "\n",
        "    return \" \".join(y)\n",
        "\n",
        "#df[\"text\"] = df[\"text\"].apply(transform_text)"
      ],
      "metadata": {
        "colab": {
          "base_uri": "https://localhost:8080/"
        },
        "id": "2O7ETnNcQps6",
        "outputId": "290c5e0a-d649-4a60-980f-b47d7f9223f4"
      },
      "execution_count": null,
      "outputs": [
        {
          "output_type": "stream",
          "name": "stderr",
          "text": [
            "[nltk_data] Downloading package punkt to /root/nltk_data...\n",
            "[nltk_data]   Package punkt is already up-to-date!\n",
            "[nltk_data] Downloading package stopwords to /root/nltk_data...\n",
            "[nltk_data]   Unzipping corpora/stopwords.zip.\n"
          ]
        }
      ]
    },
    {
      "cell_type": "code",
      "source": [
        "df[\"transformed_text\"]=df[\"text\"].apply(transform_text)"
      ],
      "metadata": {
        "id": "sU-KQSOMPaEQ"
      },
      "execution_count": null,
      "outputs": []
    },
    {
      "cell_type": "code",
      "source": [
        "from sklearn.feature_extraction.text import CountVectorizer,TfidfVectorizer\n",
        "cv = CountVectorizer()\n",
        "tfidf = TfidfVectorizer(max_features=3000)"
      ],
      "metadata": {
        "id": "HC00X33LQ_B2"
      },
      "execution_count": null,
      "outputs": []
    },
    {
      "cell_type": "code",
      "source": [
        "x = tfidf.fit_transform(df['transformed_text']).toarray()"
      ],
      "metadata": {
        "id": "lTW4TK2ZSewd"
      },
      "execution_count": null,
      "outputs": []
    },
    {
      "cell_type": "code",
      "source": [
        "y=df[\"target\"].values"
      ],
      "metadata": {
        "id": "rs1_CZsaSnA1"
      },
      "execution_count": null,
      "outputs": []
    },
    {
      "cell_type": "code",
      "source": [
        "from sklearn.model_selection import train_test_split"
      ],
      "metadata": {
        "id": "gTTw90LETB6b"
      },
      "execution_count": null,
      "outputs": []
    },
    {
      "cell_type": "code",
      "source": [
        "x_train,x_test,y_train,y_test=train_test_split(x,y,test_size=0.2,random_state=2)"
      ],
      "metadata": {
        "id": "zkxK5Kj7TNqJ"
      },
      "execution_count": null,
      "outputs": []
    },
    {
      "cell_type": "code",
      "source": [
        "\n",
        "from sklearn.naive_bayes import GaussianNB, MultinomialNB, BernoulliNB\n",
        "from sklearn.metrics import accuracy_score, confusion_matrix, precision_score\n",
        "\n",
        "gnb = GaussianNB()\n",
        "mnb = MultinomialNB()\n",
        "bnb = BernoulliNB()\n",
        "\n",
        "# Train GaussianNB\n",
        "gnb.fit(x_train, y_train)\n",
        "\n",
        "# Predictions\n",
        "y_pred_gnb = gnb.predict(x_test)\n",
        "\n",
        "# Evaluate\n",
        "print(\"Accuracy:\", accuracy_score(y_test, y_pred_gnb))\n",
        "print(\"Confusion Matrix:\\n\", confusion_matrix(y_test, y_pred_gnb))\n",
        "print(\"Precision:\", precision_score(y_test, y_pred_gnb))"
      ],
      "metadata": {
        "colab": {
          "base_uri": "https://localhost:8080/"
        },
        "id": "jq9FiZqHWsJw",
        "outputId": "c3a65e24-e90a-4746-b0b2-8752becbf104"
      },
      "execution_count": null,
      "outputs": [
        {
          "output_type": "stream",
          "name": "stdout",
          "text": [
            "Accuracy: 0.8694390715667312\n",
            "Confusion Matrix:\n",
            " [[788 108]\n",
            " [ 27 111]]\n",
            "Precision: 0.5068493150684932\n"
          ]
        }
      ]
    },
    {
      "cell_type": "code",
      "source": [
        "mnb.fit(x_train, y_train)\n",
        "y_pred_mnb = mnb.predict(x_test)\n",
        "\n",
        "print(\"MultinomialNB Results:\")\n",
        "print(\"Accuracy:\", accuracy_score(y_test, y_pred_mnb))\n",
        "print(\"Confusion Matrix:\\n\", confusion_matrix(y_test, y_pred_mnb))\n",
        "print(\"Precision:\", precision_score(y_test, y_pred_mnb))\n",
        "print(\"-\" * 50)"
      ],
      "metadata": {
        "colab": {
          "base_uri": "https://localhost:8080/"
        },
        "id": "1s-AAwaVXKlk",
        "outputId": "37a6793a-cfcb-4a67-ddc0-97716b2e5c04"
      },
      "execution_count": null,
      "outputs": [
        {
          "output_type": "stream",
          "name": "stdout",
          "text": [
            "MultinomialNB Results:\n",
            "Accuracy: 0.9709864603481625\n",
            "Confusion Matrix:\n",
            " [[896   0]\n",
            " [ 30 108]]\n",
            "Precision: 1.0\n",
            "--------------------------------------------------\n"
          ]
        }
      ]
    },
    {
      "cell_type": "code",
      "source": [
        "bnb.fit(x_train, y_train)\n",
        "y_pred_bnb = bnb.predict(x_test)\n",
        "\n",
        "print(\"BernoulliNB Results:\")\n",
        "print(\"Accuracy:\", accuracy_score(y_test, y_pred_bnb))\n",
        "print(\"Confusion Matrix:\\n\", confusion_matrix(y_test, y_pred_bnb))\n",
        "print(\"Precision:\", precision_score(y_test, y_pred_bnb))\n",
        "print(\"-\" * 50)"
      ],
      "metadata": {
        "colab": {
          "base_uri": "https://localhost:8080/"
        },
        "id": "dZF8pIzLXN29",
        "outputId": "60b61deb-5cb8-4f93-e34e-5dfcd165a707"
      },
      "execution_count": null,
      "outputs": [
        {
          "output_type": "stream",
          "name": "stdout",
          "text": [
            "BernoulliNB Results:\n",
            "Accuracy: 0.9835589941972921\n",
            "Confusion Matrix:\n",
            " [[895   1]\n",
            " [ 16 122]]\n",
            "Precision: 0.991869918699187\n",
            "--------------------------------------------------\n"
          ]
        }
      ]
    },
    {
      "cell_type": "code",
      "source": [
        "import pickle\n",
        "pickle.dump(tfidf,open(\"vectorizer.pkl\",\"wb\"))\n",
        "pickle.dump(mnb,open(\"model.pkl\",\"wb\"))"
      ],
      "metadata": {
        "id": "7cy8Dtlwc2Ow"
      },
      "execution_count": null,
      "outputs": []
    },
    {
      "cell_type": "code",
      "source": [
        "input_sms = \"\"\n",
        "transformed_sms = transform_text(input_sms)\n",
        "vector_input = tfidf.transform([transformed_sms])\n",
        "vector_input"
      ],
      "metadata": {
        "colab": {
          "base_uri": "https://localhost:8080/"
        },
        "id": "ZDva9oPKvlvm",
        "outputId": "c0ccc916-7c07-4cec-f297-55655ddc8075"
      },
      "execution_count": null,
      "outputs": [
        {
          "output_type": "execute_result",
          "data": {
            "text/plain": [
              "<1x3000 sparse matrix of type '<class 'numpy.float64'>'\n",
              "\twith 0 stored elements in Compressed Sparse Row format>"
            ]
          },
          "metadata": {},
          "execution_count": 29
        }
      ]
    },
    {
      "cell_type": "code",
      "source": [
        "result = mnb.predict(vector_input)[0]"
      ],
      "metadata": {
        "id": "kryV8lhlxNd0"
      },
      "execution_count": null,
      "outputs": []
    },
    {
      "cell_type": "code",
      "source": [
        "def prediction(text):\n",
        "    input_sms = \"\"\n",
        "    transformed_sms = transform_text(input_sms)\n",
        "    vector_input = tfidf.transform([transformed_sms])\n",
        "    result = mnb.predict(vector_input)[0]\n",
        "    if result==0:        print(\"not spam\")\n",
        "    else:\n",
        "        print(\"spam\")"
      ],
      "metadata": {
        "id": "zpEoF03Yyftg"
      },
      "execution_count": null,
      "outputs": []
    },
    {
      "cell_type": "code",
      "source": [
        "prediction(\"Your PayPal account has been suspended. Verify your details immediately\")"
      ],
      "metadata": {
        "colab": {
          "base_uri": "https://localhost:8080/"
        },
        "id": "Z3av8m39Gs_3",
        "outputId": "86ae0496-8952-48fe-94bf-05664e0bc244"
      },
      "execution_count": null,
      "outputs": [
        {
          "output_type": "stream",
          "name": "stdout",
          "text": [
            "not spam\n"
          ]
        }
      ]
    },
    {
      "cell_type": "code",
      "source": [
        "\n",
        "# New set of sample emails (spam = 1, ham = 0)\n",
        "emails = [\n",
        "    # SPAM Emails\n",
        "    (\"Win a brand new iPhone! Click the link to enter the contest now.\", 1),\n",
        "    (\"Your PayPal account has been suspended. Verify your details immediately.\", 1),\n",
        "    (\"Act now! Get 90% off on all products for the next 24 hours.\", 1),\n",
        "    (\"You've been pre-approved for a $10,000 loan. No credit check required.\", 1),\n",
        "    (\"Exclusive offer just for you! Get free Bitcoin by signing up today.\", 1),\n",
        "    (\"Hi, I'm a prince from Nigeria, and I need your help transferring $1 million.\", 1),\n",
        "    (\"Urgent: Your social security number has been compromised. Call now!\", 1),\n",
        "    (\"Special promo: Subscribe today and get lifetime access for free.\", 1),\n",
        "    (\"Increase your followers instantly! Buy 10,000 followers for only $5.\", 1),\n",
        "    (\"Final reminder: Your car warranty is about to expire. Renew now!\", 1),\n",
        "\n",
        "    # HAM Emails\n",
        "    (\"Hey, can you send me the notes from yesterday’s lecture?\", 0),\n",
        "    (\"Your Amazon order has been shipped and will arrive soon.\", 0),\n",
        "    (\"Reminder: Your electricity bill is due next week.\", 0),\n",
        "    (\"The meeting has been moved to 2 PM. Let me know if that works.\", 0),\n",
        "    (\"Can you review the document and share your feedback?\", 0),\n",
        "    (\"Happy birthday! Hope you have a fantastic day ahead.\", 0),\n",
        "    (\"Let's schedule a call for tomorrow morning.\", 0),\n",
        "    (\"Looking forward to catching up this weekend!\", 0),\n",
        "    (\"Your flight has been rescheduled. Please check your email for details.\", 0),\n",
        "    (\"The code implementation looks good. Just a few minor fixes needed.\", 0)\n",
        "]\n",
        "\n",
        "# Function to check correctness\n",
        "def evaluate_model(prediction_function):\n",
        "    correct = 0\n",
        "    total = len(emails)\n",
        "\n",
        "    for email, actual_label in emails:\n",
        "        predicted_label = 1 if prediction_function(email) == \"Spam\" else 0\n",
        "        is_correct = \"✅ Correct\" if predicted_label == actual_label else \"❌ Wrong\"\n",
        "\n",
        "        print(f\"Email: {email}\")\n",
        "        print(f\"Predicted: {'Spam' if predicted_label else 'Ham'} | Actual: {'Spam' if actual_label else 'Ham'} | {is_correct}\\n\")\n",
        "\n",
        "        correct += (predicted_label == actual_label)\n",
        "\n",
        "    accuracy = (correct / total) * 100\n",
        "    print(f\"Model Accuracy: {accuracy:.2f}%\")\n",
        "\n",
        "# Run evaluation\n",
        "evaluate_model(prediction)"
      ],
      "metadata": {
        "colab": {
          "base_uri": "https://localhost:8080/"
        },
        "id": "XQPsq9xZGY-e",
        "outputId": "c7ac178a-ad29-4d3f-cfb0-5992f633b460"
      },
      "execution_count": null,
      "outputs": [
        {
          "output_type": "stream",
          "name": "stdout",
          "text": [
            "not spam\n",
            "Email: Win a brand new iPhone! Click the link to enter the contest now.\n",
            "Predicted: Ham | Actual: Spam | ❌ Wrong\n",
            "\n",
            "not spam\n",
            "Email: Your PayPal account has been suspended. Verify your details immediately.\n",
            "Predicted: Ham | Actual: Spam | ❌ Wrong\n",
            "\n",
            "not spam\n",
            "Email: Act now! Get 90% off on all products for the next 24 hours.\n",
            "Predicted: Ham | Actual: Spam | ❌ Wrong\n",
            "\n",
            "not spam\n",
            "Email: You've been pre-approved for a $10,000 loan. No credit check required.\n",
            "Predicted: Ham | Actual: Spam | ❌ Wrong\n",
            "\n",
            "not spam\n",
            "Email: Exclusive offer just for you! Get free Bitcoin by signing up today.\n",
            "Predicted: Ham | Actual: Spam | ❌ Wrong\n",
            "\n",
            "not spam\n",
            "Email: Hi, I'm a prince from Nigeria, and I need your help transferring $1 million.\n",
            "Predicted: Ham | Actual: Spam | ❌ Wrong\n",
            "\n",
            "not spam\n",
            "Email: Urgent: Your social security number has been compromised. Call now!\n",
            "Predicted: Ham | Actual: Spam | ❌ Wrong\n",
            "\n",
            "not spam\n",
            "Email: Special promo: Subscribe today and get lifetime access for free.\n",
            "Predicted: Ham | Actual: Spam | ❌ Wrong\n",
            "\n",
            "not spam\n",
            "Email: Increase your followers instantly! Buy 10,000 followers for only $5.\n",
            "Predicted: Ham | Actual: Spam | ❌ Wrong\n",
            "\n",
            "not spam\n",
            "Email: Final reminder: Your car warranty is about to expire. Renew now!\n",
            "Predicted: Ham | Actual: Spam | ❌ Wrong\n",
            "\n",
            "not spam\n",
            "Email: Hey, can you send me the notes from yesterday’s lecture?\n",
            "Predicted: Ham | Actual: Ham | ✅ Correct\n",
            "\n",
            "not spam\n",
            "Email: Your Amazon order has been shipped and will arrive soon.\n",
            "Predicted: Ham | Actual: Ham | ✅ Correct\n",
            "\n",
            "not spam\n",
            "Email: Reminder: Your electricity bill is due next week.\n",
            "Predicted: Ham | Actual: Ham | ✅ Correct\n",
            "\n",
            "not spam\n",
            "Email: The meeting has been moved to 2 PM. Let me know if that works.\n",
            "Predicted: Ham | Actual: Ham | ✅ Correct\n",
            "\n",
            "not spam\n",
            "Email: Can you review the document and share your feedback?\n",
            "Predicted: Ham | Actual: Ham | ✅ Correct\n",
            "\n",
            "not spam\n",
            "Email: Happy birthday! Hope you have a fantastic day ahead.\n",
            "Predicted: Ham | Actual: Ham | ✅ Correct\n",
            "\n",
            "not spam\n",
            "Email: Let's schedule a call for tomorrow morning.\n",
            "Predicted: Ham | Actual: Ham | ✅ Correct\n",
            "\n",
            "not spam\n",
            "Email: Looking forward to catching up this weekend!\n",
            "Predicted: Ham | Actual: Ham | ✅ Correct\n",
            "\n",
            "not spam\n",
            "Email: Your flight has been rescheduled. Please check your email for details.\n",
            "Predicted: Ham | Actual: Ham | ✅ Correct\n",
            "\n",
            "not spam\n",
            "Email: The code implementation looks good. Just a few minor fixes needed.\n",
            "Predicted: Ham | Actual: Ham | ✅ Correct\n",
            "\n",
            "Model Accuracy: 50.00%\n"
          ]
        }
      ]
    }
  ]
}